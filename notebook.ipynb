{
 "cells": [
  {
   "cell_type": "code",
   "execution_count": 1,
   "metadata": {},
   "outputs": [],
   "source": [
    "%load_ext autoreload\n",
    "%autoreload 2\n",
    "\n"
   ]
  },
  {
   "cell_type": "code",
   "execution_count": 1,
   "metadata": {},
   "outputs": [],
   "source": [
    "from IPython.core.magic import Magics, magics_class, line_magic\n",
    "from IPython.extensions.autoreload import AutoreloadMagics\n",
    "\n",
    "def reset_env_vars():\n",
    "    # Implement your environment variable reset logic here\n",
    "    print(\"Resetting environment variables...\")\n",
    "\n",
    "@magics_class\n",
    "class AutoreloadResetMagics(AutoreloadMagics):\n",
    "    @line_magic\n",
    "    def autoreload(self, parameter_s=''):\n",
    "        super().autoreload(parameter_s)\n",
    "        reset_env_vars()\n",
    "\n",
    "def load_ipython_extension(ipython):\n",
    "    \"\"\"Load the extension in IPython.\"\"\"\n",
    "    autoreload_reset_magics = AutoreloadResetMagics(ipython)\n",
    "    ipython.register_magics(autoreload_reset_magics)"
   ]
  },
  {
   "cell_type": "code",
   "execution_count": 1,
   "metadata": {},
   "outputs": [
    {
     "name": "stdout",
     "output_type": "stream",
     "text": [
      "autoreload_reset extension loaded successfully. Environment variables will be reset after module reloads.\n"
     ]
    }
   ],
   "source": [
    "%load_ext autoreload\n",
    "%autoreload 2\n",
    "\n",
    "%load_ext autoreload_reset"
   ]
  },
  {
   "cell_type": "code",
   "execution_count": 2,
   "metadata": {},
   "outputs": [
    {
     "ename": "RuntimeError",
     "evalue": "The 'autoreload' extension must be loaded before loading 'autoreload_reset'. Please run '%load_ext autoreload' first.",
     "output_type": "error",
     "traceback": [
      "\u001b[0;31m---------------------------------------------------------------------------\u001b[0m",
      "\u001b[0;31mRuntimeError\u001b[0m                              Traceback (most recent call last)",
      "Cell \u001b[0;32mIn[2], line 1\u001b[0m\n\u001b[0;32m----> 1\u001b[0m \u001b[43mget_ipython\u001b[49m\u001b[43m(\u001b[49m\u001b[43m)\u001b[49m\u001b[38;5;241;43m.\u001b[39;49m\u001b[43mrun_line_magic\u001b[49m\u001b[43m(\u001b[49m\u001b[38;5;124;43m'\u001b[39;49m\u001b[38;5;124;43mload_ext\u001b[39;49m\u001b[38;5;124;43m'\u001b[39;49m\u001b[43m,\u001b[49m\u001b[43m \u001b[49m\u001b[38;5;124;43m'\u001b[39;49m\u001b[38;5;124;43mautoreload_reset\u001b[39;49m\u001b[38;5;124;43m'\u001b[39;49m\u001b[43m)\u001b[49m\n",
      "File \u001b[0;32m~/Projects/baml-uv/.venv/lib/python3.11/site-packages/IPython/core/interactiveshell.py:2480\u001b[0m, in \u001b[0;36mInteractiveShell.run_line_magic\u001b[0;34m(self, magic_name, line, _stack_depth)\u001b[0m\n\u001b[1;32m   2478\u001b[0m     kwargs[\u001b[38;5;124m'\u001b[39m\u001b[38;5;124mlocal_ns\u001b[39m\u001b[38;5;124m'\u001b[39m] \u001b[38;5;241m=\u001b[39m \u001b[38;5;28mself\u001b[39m\u001b[38;5;241m.\u001b[39mget_local_scope(stack_depth)\n\u001b[1;32m   2479\u001b[0m \u001b[38;5;28;01mwith\u001b[39;00m \u001b[38;5;28mself\u001b[39m\u001b[38;5;241m.\u001b[39mbuiltin_trap:\n\u001b[0;32m-> 2480\u001b[0m     result \u001b[38;5;241m=\u001b[39m \u001b[43mfn\u001b[49m\u001b[43m(\u001b[49m\u001b[38;5;241;43m*\u001b[39;49m\u001b[43margs\u001b[49m\u001b[43m,\u001b[49m\u001b[43m \u001b[49m\u001b[38;5;241;43m*\u001b[39;49m\u001b[38;5;241;43m*\u001b[39;49m\u001b[43mkwargs\u001b[49m\u001b[43m)\u001b[49m\n\u001b[1;32m   2482\u001b[0m \u001b[38;5;66;03m# The code below prevents the output from being displayed\u001b[39;00m\n\u001b[1;32m   2483\u001b[0m \u001b[38;5;66;03m# when using magics with decorator @output_can_be_silenced\u001b[39;00m\n\u001b[1;32m   2484\u001b[0m \u001b[38;5;66;03m# when the last Python token in the expression is a ';'.\u001b[39;00m\n\u001b[1;32m   2485\u001b[0m \u001b[38;5;28;01mif\u001b[39;00m \u001b[38;5;28mgetattr\u001b[39m(fn, magic\u001b[38;5;241m.\u001b[39mMAGIC_OUTPUT_CAN_BE_SILENCED, \u001b[38;5;28;01mFalse\u001b[39;00m):\n",
      "File \u001b[0;32m~/Projects/baml-uv/.venv/lib/python3.11/site-packages/IPython/core/magics/extension.py:33\u001b[0m, in \u001b[0;36mExtensionMagics.load_ext\u001b[0;34m(self, module_str)\u001b[0m\n\u001b[1;32m     31\u001b[0m \u001b[38;5;28;01mif\u001b[39;00m \u001b[38;5;129;01mnot\u001b[39;00m module_str:\n\u001b[1;32m     32\u001b[0m     \u001b[38;5;28;01mraise\u001b[39;00m UsageError(\u001b[38;5;124m'\u001b[39m\u001b[38;5;124mMissing module name.\u001b[39m\u001b[38;5;124m'\u001b[39m)\n\u001b[0;32m---> 33\u001b[0m res \u001b[38;5;241m=\u001b[39m \u001b[38;5;28;43mself\u001b[39;49m\u001b[38;5;241;43m.\u001b[39;49m\u001b[43mshell\u001b[49m\u001b[38;5;241;43m.\u001b[39;49m\u001b[43mextension_manager\u001b[49m\u001b[38;5;241;43m.\u001b[39;49m\u001b[43mload_extension\u001b[49m\u001b[43m(\u001b[49m\u001b[43mmodule_str\u001b[49m\u001b[43m)\u001b[49m\n\u001b[1;32m     35\u001b[0m \u001b[38;5;28;01mif\u001b[39;00m res \u001b[38;5;241m==\u001b[39m \u001b[38;5;124m'\u001b[39m\u001b[38;5;124malready loaded\u001b[39m\u001b[38;5;124m'\u001b[39m:\n\u001b[1;32m     36\u001b[0m     \u001b[38;5;28mprint\u001b[39m(\u001b[38;5;124m\"\u001b[39m\u001b[38;5;124mThe \u001b[39m\u001b[38;5;132;01m%s\u001b[39;00m\u001b[38;5;124m extension is already loaded. To reload it, use:\u001b[39m\u001b[38;5;124m\"\u001b[39m \u001b[38;5;241m%\u001b[39m module_str)\n",
      "File \u001b[0;32m~/Projects/baml-uv/.venv/lib/python3.11/site-packages/IPython/core/extensions.py:62\u001b[0m, in \u001b[0;36mExtensionManager.load_extension\u001b[0;34m(self, module_str)\u001b[0m\n\u001b[1;32m     55\u001b[0m \u001b[38;5;250m\u001b[39m\u001b[38;5;124;03m\"\"\"Load an IPython extension by its module name.\u001b[39;00m\n\u001b[1;32m     56\u001b[0m \n\u001b[1;32m     57\u001b[0m \u001b[38;5;124;03mReturns the string \"already loaded\" if the extension is already loaded,\u001b[39;00m\n\u001b[1;32m     58\u001b[0m \u001b[38;5;124;03m\"no load function\" if the module doesn't have a load_ipython_extension\u001b[39;00m\n\u001b[1;32m     59\u001b[0m \u001b[38;5;124;03mfunction, or None if it succeeded.\u001b[39;00m\n\u001b[1;32m     60\u001b[0m \u001b[38;5;124;03m\"\"\"\u001b[39;00m\n\u001b[1;32m     61\u001b[0m \u001b[38;5;28;01mtry\u001b[39;00m:\n\u001b[0;32m---> 62\u001b[0m     \u001b[38;5;28;01mreturn\u001b[39;00m \u001b[38;5;28;43mself\u001b[39;49m\u001b[38;5;241;43m.\u001b[39;49m\u001b[43m_load_extension\u001b[49m\u001b[43m(\u001b[49m\u001b[43mmodule_str\u001b[49m\u001b[43m)\u001b[49m\n\u001b[1;32m     63\u001b[0m \u001b[38;5;28;01mexcept\u001b[39;00m \u001b[38;5;167;01mModuleNotFoundError\u001b[39;00m:\n\u001b[1;32m     64\u001b[0m     \u001b[38;5;28;01mif\u001b[39;00m module_str \u001b[38;5;129;01min\u001b[39;00m BUILTINS_EXTS:\n",
      "File \u001b[0;32m~/Projects/baml-uv/.venv/lib/python3.11/site-packages/IPython/core/extensions.py:79\u001b[0m, in \u001b[0;36mExtensionManager._load_extension\u001b[0;34m(self, module_str)\u001b[0m\n\u001b[1;32m     77\u001b[0m     mod \u001b[38;5;241m=\u001b[39m import_module(module_str)\n\u001b[1;32m     78\u001b[0m mod \u001b[38;5;241m=\u001b[39m sys\u001b[38;5;241m.\u001b[39mmodules[module_str]\n\u001b[0;32m---> 79\u001b[0m \u001b[38;5;28;01mif\u001b[39;00m \u001b[38;5;28;43mself\u001b[39;49m\u001b[38;5;241;43m.\u001b[39;49m\u001b[43m_call_load_ipython_extension\u001b[49m\u001b[43m(\u001b[49m\u001b[43mmod\u001b[49m\u001b[43m)\u001b[49m:\n\u001b[1;32m     80\u001b[0m     \u001b[38;5;28mself\u001b[39m\u001b[38;5;241m.\u001b[39mloaded\u001b[38;5;241m.\u001b[39madd(module_str)\n\u001b[1;32m     81\u001b[0m \u001b[38;5;28;01melse\u001b[39;00m:\n",
      "File \u001b[0;32m~/Projects/baml-uv/.venv/lib/python3.11/site-packages/IPython/core/extensions.py:129\u001b[0m, in \u001b[0;36mExtensionManager._call_load_ipython_extension\u001b[0;34m(self, mod)\u001b[0m\n\u001b[1;32m    127\u001b[0m \u001b[38;5;28;01mdef\u001b[39;00m \u001b[38;5;21m_call_load_ipython_extension\u001b[39m(\u001b[38;5;28mself\u001b[39m, mod):\n\u001b[1;32m    128\u001b[0m     \u001b[38;5;28;01mif\u001b[39;00m \u001b[38;5;28mhasattr\u001b[39m(mod, \u001b[38;5;124m'\u001b[39m\u001b[38;5;124mload_ipython_extension\u001b[39m\u001b[38;5;124m'\u001b[39m):\n\u001b[0;32m--> 129\u001b[0m         \u001b[43mmod\u001b[49m\u001b[38;5;241;43m.\u001b[39;49m\u001b[43mload_ipython_extension\u001b[49m\u001b[43m(\u001b[49m\u001b[38;5;28;43mself\u001b[39;49m\u001b[38;5;241;43m.\u001b[39;49m\u001b[43mshell\u001b[49m\u001b[43m)\u001b[49m\n\u001b[1;32m    130\u001b[0m         \u001b[38;5;28;01mreturn\u001b[39;00m \u001b[38;5;28;01mTrue\u001b[39;00m\n",
      "File \u001b[0;32m~/Projects/baml-uv/autoreload_reset.py:55\u001b[0m, in \u001b[0;36mload_ipython_extension\u001b[0;34m(ipython)\u001b[0m\n\u001b[1;32m     53\u001b[0m \u001b[38;5;66;03m# Step 1: Check if 'autoreload' is already loaded\u001b[39;00m\n\u001b[1;32m     54\u001b[0m \u001b[38;5;28;01mif\u001b[39;00m \u001b[38;5;124m\"\u001b[39m\u001b[38;5;124mautoreload\u001b[39m\u001b[38;5;124m\"\u001b[39m \u001b[38;5;129;01mnot\u001b[39;00m \u001b[38;5;129;01min\u001b[39;00m ipython\u001b[38;5;241m.\u001b[39mextension_manager\u001b[38;5;241m.\u001b[39mloaded:\n\u001b[0;32m---> 55\u001b[0m     \u001b[38;5;28;01mraise\u001b[39;00m \u001b[38;5;167;01mRuntimeError\u001b[39;00m(\n\u001b[1;32m     56\u001b[0m         \u001b[38;5;124m\"\u001b[39m\u001b[38;5;124mThe \u001b[39m\u001b[38;5;124m'\u001b[39m\u001b[38;5;124mautoreload\u001b[39m\u001b[38;5;124m'\u001b[39m\u001b[38;5;124m extension must be loaded before loading \u001b[39m\u001b[38;5;124m'\u001b[39m\u001b[38;5;124mautoreload_reset\u001b[39m\u001b[38;5;124m'\u001b[39m\u001b[38;5;124m. Please run \u001b[39m\u001b[38;5;124m'\u001b[39m\u001b[38;5;132;01m%lo\u001b[39;00m\u001b[38;5;124mad_ext autoreload\u001b[39m\u001b[38;5;124m'\u001b[39m\u001b[38;5;124m first.\u001b[39m\u001b[38;5;124m\"\u001b[39m\n\u001b[1;32m     57\u001b[0m     )\n\u001b[1;32m     59\u001b[0m \u001b[38;5;66;03m# Step 2: Find the AutoreloadMagics instance\u001b[39;00m\n\u001b[1;32m     60\u001b[0m autoreload_magics \u001b[38;5;241m=\u001b[39m \u001b[38;5;28;01mNone\u001b[39;00m\n",
      "\u001b[0;31mRuntimeError\u001b[0m: The 'autoreload' extension must be loaded before loading 'autoreload_reset'. Please run '%load_ext autoreload' first."
     ]
    }
   ],
   "source": []
  },
  {
   "cell_type": "code",
   "execution_count": 1,
   "metadata": {},
   "outputs": [],
   "source": [
    "from IPython.extensions.autoreload import AutoreloadMagics\n",
    "from app.baml_client import reset_baml_env_vars\n",
    "import os\n",
    "from IPython import get_ipython\n",
    "import sys\n",
    "\n",
    "class CustomAutoreload(AutoreloadMagics):\n",
    "    def reload_hook(self, module):\n",
    "        print(\"reloading\")\n",
    "        sys.stdout.flush()\n",
    "        super().reload_hook(module)\n",
    "        if module.__name__ == 'app.baml_client':\n",
    "            reset_baml_env_vars(dict(os.environ))\n",
    "\n",
    "ip = get_ipython()\n",
    "ip.register_magics(CustomAutoreload)\n",
    "\n",
    "%load_ext autoreload\n",
    "%autoreload 2"
   ]
  },
  {
   "cell_type": "code",
   "execution_count": null,
   "metadata": {},
   "outputs": [],
   "source": [
    "from IPython.core.magic import register_line_magic\n",
    "from app.baml_client import reset_baml_env_vars\n",
    "import os\n",
    "\n",
    "@register_line_magic\n",
    "def autoreload_and_reset(line):\n",
    "    %load_ext autoreload\n",
    "    %autoreload 2\n",
    "    reset_baml_env_vars(dict(os.environ))"
   ]
  },
  {
   "cell_type": "code",
   "execution_count": 3,
   "metadata": {},
   "outputs": [
    {
     "name": "stdout",
     "output_type": "stream",
     "text": [
      "Resetting environment variables...\n"
     ]
    }
   ],
   "source": [
    "from app.baml_client import b"
   ]
  },
  {
   "cell_type": "code",
   "execution_count": 2,
   "metadata": {},
   "outputs": [],
   "source": [
    "import app.baml_client as client"
   ]
  },
  {
   "cell_type": "code",
   "execution_count": 8,
   "metadata": {},
   "outputs": [],
   "source": [
    "from app.baml_client import b\n",
    "from app.baml_client import reset_baml_env_vars\n",
    "import os\n",
    "from IPython import get_ipython\n",
    "from typing import Any\n",
    "\n",
    "def pre_run_hook(*args: Any, **kwargs: Any):\n",
    "    print(\"resetting env vars\")\n",
    "    reset_baml_env_vars(dict(os.environ))\n",
    "\n",
    "ipython = get_ipython()\n",
    "ipython.events.register('pre_execute', pre_run_hook)"
   ]
  },
  {
   "cell_type": "code",
   "execution_count": 1,
   "metadata": {},
   "outputs": [
    {
     "ename": "AttributeError",
     "evalue": "type object 'AutoreloadMagics' has no attribute 'reload_hook'",
     "output_type": "error",
     "traceback": [
      "\u001b[0;31m---------------------------------------------------------------------------\u001b[0m",
      "\u001b[0;31mAttributeError\u001b[0m                            Traceback (most recent call last)",
      "Cell \u001b[0;32mIn[1], line 7\u001b[0m\n\u001b[1;32m      4\u001b[0m \u001b[38;5;28;01mfrom\u001b[39;00m \u001b[38;5;21;01mapp\u001b[39;00m\u001b[38;5;21;01m.\u001b[39;00m\u001b[38;5;21;01mbaml_client\u001b[39;00m \u001b[38;5;28;01mimport\u001b[39;00m reset_baml_env_vars\n\u001b[1;32m      6\u001b[0m \u001b[38;5;66;03m# 2. Save the original reload_hook method\u001b[39;00m\n\u001b[0;32m----> 7\u001b[0m original_reload_hook \u001b[38;5;241m=\u001b[39m \u001b[43mautoreload\u001b[49m\u001b[38;5;241;43m.\u001b[39;49m\u001b[43mAutoreloadMagics\u001b[49m\u001b[38;5;241;43m.\u001b[39;49m\u001b[43mreload_hook\u001b[49m\n\u001b[1;32m      9\u001b[0m \u001b[38;5;66;03m# 3. Define a new reload_hook method\u001b[39;00m\n\u001b[1;32m     10\u001b[0m \u001b[38;5;28;01mdef\u001b[39;00m \u001b[38;5;21mcustom_reload_hook\u001b[39m(\u001b[38;5;28mself\u001b[39m, module):\n\u001b[1;32m     11\u001b[0m     \u001b[38;5;66;03m# Call the original method\u001b[39;00m\n",
      "\u001b[0;31mAttributeError\u001b[0m: type object 'AutoreloadMagics' has no attribute 'reload_hook'"
     ]
    }
   ],
   "source": [
    "# 1. Import necessary modules\n",
    "from IPython.extensions import autoreload\n",
    "import os\n",
    "from app.baml_client import reset_baml_env_vars\n",
    "\n",
    "# 2. Save the original reload_hook method\n",
    "original_reload_hook = autoreload.AutoreloadMagics.reload_hook\n",
    "\n",
    "# 3. Define a new reload_hook method\n",
    "def custom_reload_hook(self, module):\n",
    "    # Call the original method\n",
    "    original_reload_hook(self, module)\n",
    "    # If the module is app.baml_client, execute reset_baml_env_vars\n",
    "    if module.__name__ == 'app.baml_client':\n",
    "        print(f\"Reloaded {module.__name__}, executing reset_baml_env_vars...\")\n",
    "        reset_baml_env_vars(dict(os.environ))\n",
    "\n",
    "# 4. Monkey-patch the reload_hook method\n",
    "autoreload.AutoreloadMagics.reload_hook = custom_reload_hook\n",
    "\n",
    "# 5. Activate %autoreload\n",
    "%load_ext autoreload\n",
    "%autoreload 2\n",
    "\n",
    "# 6. Import your modules\n",
    "from app.baml_client import b\n"
   ]
  },
  {
   "cell_type": "code",
   "execution_count": 9,
   "metadata": {},
   "outputs": [],
   "source": [
    "from app.baml_client import b\n",
    "import os\n",
    "\n",
    "from app.baml_client import reset_baml_env_vars\n",
    "\n",
    "reset_baml_env_vars(dict(os.environ))"
   ]
  },
  {
   "cell_type": "code",
   "execution_count": 3,
   "metadata": {},
   "outputs": [
    {
     "name": "stderr",
     "output_type": "stream",
     "text": [
      "\u001b[90m[\u001b[0m2024-10-04T04:26:40Z \u001b[32mINFO \u001b[0m baml_events\u001b[90m]\u001b[0m \u001b[35mFunction Hi:\n",
      "    \u001b[0m\u001b[33mClient: Sonnet (claude-3-5-sonnet-20240620) - 11217ms. StopReason: \"end_turn\"\u001b[0m\n",
      "    \u001b[34m---PROMPT---\u001b[0m\n",
      "    \u001b[2m[\u001b[2mchat\u001b[0m\u001b[2m] \u001b[43msystem: \u001b[0m\u001b[2mTCouunt soifseoifsoefj\n",
      "    \u001b[43muser: \u001b[0m\u001b[2mHi Hi there im aaronn\n",
      "    \u001b[0m\n",
      "    \u001b[34m---LLM REPLY---\u001b[0m\n",
      "    \u001b[2mHello Aaron! It's nice to meet you. How are you doing today? Is there anything I can help you with or would you like to chat about something in particular?\u001b[0m\n",
      "    \u001b[34m---Parsed Response (string)---\u001b[0m\n",
      "    \"Hello Aaron! It's nice to meet you. How are you doing today? Is there anything I can help you with or would you like to chat about something in particular?\"\n"
     ]
    },
    {
     "data": {
      "text/plain": [
       "\"Hello Aaron! It's nice to meet you. How are you doing today? Is there anything I can help you with or would you like to chat about something in particular?\""
      ]
     },
     "execution_count": 3,
     "metadata": {},
     "output_type": "execute_result"
    }
   ],
   "source": [
    "# from app.baml_client import b\n",
    "# b.CheckPageHasTransactions\n",
    "client.b.Hi(\"Hi there im aaronn\")"
   ]
  }
 ],
 "metadata": {
  "kernelspec": {
   "display_name": ".venv",
   "language": "python",
   "name": "python3"
  },
  "language_info": {
   "codemirror_mode": {
    "name": "ipython",
    "version": 3
   },
   "file_extension": ".py",
   "mimetype": "text/x-python",
   "name": "python",
   "nbconvert_exporter": "python",
   "pygments_lexer": "ipython3",
   "version": "3.11.9"
  }
 },
 "nbformat": 4,
 "nbformat_minor": 2
}
